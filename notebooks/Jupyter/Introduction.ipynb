{
 "cells": [
  {
   "cell_type": "markdown",
   "id": "a586d9f1-59a1-4359-9954-bf807c8d1cd6",
   "metadata": {},
   "source": [
    "# Introduction to Unfolded Map SDK"
   ]
  },
  {
   "cell_type": "markdown",
   "id": "83d160e4-f70a-4cb8-9d70-1e90a8768d4f",
   "metadata": {},
   "source": [
    "This notebook demonstrates how to create new [Unfolded Map](https://docs.unfolded.ai/map-sdk/api/unfolded-map) and [add a dataset](https://docs.unfolded.ai/map-sdk/api/add-dataset) to the created map.\n",
    "\n",
    "[Unfolded Map SDK API](https://docs.unfolded.ai/map-sdk/api) documentation provides overview of available methods with examples to manipulate Unfolded maps in Python. \n",
    "\n",
    "Check out other Jupyter Notebook Examples with Python in [this directory](https://github.com/RandomFractals/unfolded-map-snippets/tree/main/notebooks/Jupyter)."
   ]
  },
  {
   "cell_type": "markdown",
   "id": "4d5b1840-09b8-4f7f-81a3-5327eab9ee9f",
   "metadata": {},
   "source": [
    "## 1. Create Unfolded Map"
   ]
  },
  {
   "cell_type": "code",
   "execution_count": null,
   "id": "6252a03d-7e1f-4218-a7c1-55d0bef9f6a5",
   "metadata": {},
   "outputs": [],
   "source": [
    "from unfolded.map_sdk import UnfoldedMap\n",
    "unfolded_map = UnfoldedMap(height=480)"
   ]
  },
  {
   "cell_type": "markdown",
   "id": "5a67e292-55d5-4db9-bd5a-5ea95625b6eb",
   "metadata": {},
   "source": [
    "## 2. View Unfolded Map Output in a Cell"
   ]
  },
  {
   "cell_type": "code",
   "execution_count": null,
   "id": "83ba1569-854a-44d4-b384-b50eeea58823",
   "metadata": {},
   "outputs": [],
   "source": [
    "unfolded_map"
   ]
  },
  {
   "cell_type": "markdown",
   "id": "34c2509f-ed30-40b5-86b0-54857a45eeff",
   "metadata": {},
   "source": [
    "## 3. Add Data to Unfolded Map"
   ]
  },
  {
   "cell_type": "markdown",
   "id": "c494832a-3bbc-4bb5-b599-73edf41c14c8",
   "metadata": {},
   "source": [
    "We can use `pandas` DataFrame as a dataset for the map: "
   ]
  },
  {
   "cell_type": "code",
   "execution_count": null,
   "id": "93c4b4ca-5842-44b5-a8c4-7edf96b64929",
   "metadata": {},
   "outputs": [],
   "source": [
    "import pandas as pd\n",
    "unfolded_map.add_dataset({\n",
    "    'data': pd.DataFrame({\n",
    "        'City': ['Buenos Aires', 'Brasilia', 'Santiago', 'Bogota', 'Caracas'],\n",
    "        'Country': ['Argentina', 'Brazil', 'Chile', 'Colombia', 'Venezuela'],\n",
    "        'Latitude': [-34.58, -15.78, -33.45, 4.60, 10.48],\n",
    "        'Longitude': [-58.66, -47.91, -70.66, -74.08, -66.86]\n",
    "    })\n",
    "})"
   ]
  },
  {
   "cell_type": "markdown",
   "id": "f2b85d5d-f55c-42e7-aeeb-a59a7ab20cd0",
   "metadata": {},
   "source": [
    "## 4. Set Map View State"
   ]
  },
  {
   "cell_type": "markdown",
   "id": "cf5e6eba-f34a-4d3c-a19a-9d9a8a648df8",
   "metadata": {},
   "source": [
    "Now let's change the map viewport to better see the data points added to the map:"
   ]
  },
  {
   "cell_type": "code",
   "execution_count": null,
   "id": "73bdcdb6-6301-47e0-841d-93a919d49abd",
   "metadata": {},
   "outputs": [],
   "source": [
    "unfolded_map.set_view_state({\n",
    "    'longitude': -60, \n",
    "    'latitude': -20,\n",
    "    'zoom': 2\n",
    "})"
   ]
  }
 ],
 "metadata": {
  "interpreter": {
   "hash": "39d93d1fa75e121a3dc61814500361af150a3e06daaa74f4a7944f06eae6829c"
  },
  "kernelspec": {
   "display_name": "Python 3.8.8 64-bit ('base': conda)",
   "name": "python3"
  },
  "language_info": {
   "codemirror_mode": {
    "name": "ipython",
    "version": 3
   },
   "file_extension": ".py",
   "mimetype": "text/x-python",
   "name": "python",
   "nbconvert_exporter": "python",
   "pygments_lexer": "ipython3",
   "version": "3.8.8"
  }
 },
 "nbformat": 4,
 "nbformat_minor": 5
}

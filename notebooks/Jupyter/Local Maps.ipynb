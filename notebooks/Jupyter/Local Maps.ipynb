{
 "cells": [
  {
   "cell_type": "markdown",
   "id": "49cc9cb0-7fb2-43dd-9ea7-e255661d8429",
   "metadata": {},
   "source": [
    "# Local Maps"
   ]
  },
  {
   "cell_type": "markdown",
   "id": "fca583fc-260c-495c-8abc-9ca3b4e0b420",
   "metadata": {},
   "source": [
    "Local Unfolded maps are designed to support ongoing iterative data analysis. You can [add datasets](https://docs.unfolded.ai/map-sdk/api/add-dataset) and [layers](https://docs.unfolded.ai/map-sdk/api/add-layer) to a local map instance created in a Jupyter notebook. Neither the map itself nor any data you add to it is uploaded to the hosted [Unfolded Studio](https://studio.unfolded.ai/home) platform. Note that you still need to use a valid Unfolded token to create local Unfolded map instances."
   ]
  },
  {
   "cell_type": "markdown",
   "id": "f3c40e00-ce0e-4234-b948-b455b969ec28",
   "metadata": {},
   "source": [
    "To create a local map you need to import [Unfolded Map SDK](https://docs.unfolded.ai/map-sdk/python-map-sdk) and instantiate an `UnfoldedMap` object:"
   ]
  },
  {
   "cell_type": "code",
   "execution_count": null,
   "id": "71c77df9-1d42-4993-9a0a-d311064d03c9",
   "metadata": {},
   "outputs": [],
   "source": [
    "from unfolded.map_sdk import UnfoldedMap\n",
    "unfolded_map = UnfoldedMap(height=480)\n",
    "unfolded_map"
   ]
  },
  {
   "cell_type": "markdown",
   "metadata": {},
   "source": [
    "## Adding Datasets"
   ]
  },
  {
   "cell_type": "markdown",
   "metadata": {},
   "source": [
    "### Creating new Dataset"
   ]
  },
  {
   "cell_type": "markdown",
   "id": "d8b6d266-bf79-4e4a-8704-98b0af95aec3",
   "metadata": {},
   "source": [
    "We can add a dataframe as a dataset to the map. To do this we first create a unique identifier for the dataset, so that we can refer to it later:"
   ]
  },
  {
   "cell_type": "code",
   "execution_count": null,
   "id": "3366a68b",
   "metadata": {},
   "outputs": [],
   "source": [
    "from uuid import uuid4\n",
    "dataset_id = uuid4()"
   ]
  },
  {
   "cell_type": "markdown",
   "id": "6a9b3c46-3f3a-4b5d-a980-7ef3e998513b",
   "metadata": {},
   "source": [
    "### Adding CSV Data"
   ]
  },
  {
   "cell_type": "markdown",
   "id": "9d85dc99-18d2-454c-a476-dab41aaf156c",
   "metadata": {},
   "source": [
    "Now let's add load a CSV data file into a dataframe and add it as a dataset to the map:"
   ]
  },
  {
   "cell_type": "code",
   "execution_count": null,
   "id": "37ebfcb5",
   "metadata": {},
   "outputs": [],
   "source": [
    "import pandas as pd\n",
    "unfolded_map.add_dataset({\n",
    "    'uuid': dataset_id,\n",
    "    'label': 'Earthquakes dataset',\n",
    "    'data': pd.read_csv('data/earthquakes.csv')\n",
    "})"
   ]
  },
  {
   "cell_type": "markdown",
   "metadata": {},
   "source": [
    "### Removing a Dataset"
   ]
  },
  {
   "cell_type": "markdown",
   "id": "4d913c14-4de8-49d2-b401-78527f3069c9",
   "metadata": {},
   "source": [
    "Call [`remove_dataset()`](https://docs.unfolded.ai/map-sdk/api/remove-dataset) with `id` of the dataset to remove:"
   ]
  },
  {
   "cell_type": "code",
   "execution_count": null,
   "id": "0ab8deca",
   "metadata": {},
   "outputs": [],
   "source": [
    "unfolded_map.remove_dataset(dataset_id)"
   ]
  },
  {
   "cell_type": "markdown",
   "id": "8d137c8a",
   "metadata": {},
   "source": [
    "### Adding GeoJSON Data"
   ]
  },
  {
   "cell_type": "markdown",
   "id": "ed3a921b-7438-4974-a7ca-1064c372f5ab",
   "metadata": {},
   "source": [
    "The [`add_dataset()`](https://docs.unfolded.ai/map-sdk/api/add-dataset) method also supports [`GeoJSON`](https://geojson.org) data format:"
   ]
  },
  {
   "cell_type": "code",
   "execution_count": null,
   "id": "0e891430",
   "metadata": {},
   "outputs": [],
   "source": [
    "with open('data/nyc-census.json', 'r') as f:\n",
    "    census_tracts_geojson = f.read()\n",
    "unfolded_map.add_dataset({'data': census_tracts_geojson})"
   ]
  },
  {
   "cell_type": "markdown",
   "id": "b5cfea1e-64fc-4d01-9cf2-6e7596e024c6",
   "metadata": {},
   "source": [
    "### Adding CSV String Data"
   ]
  },
  {
   "cell_type": "markdown",
   "id": "3bc09be9-4dfa-422c-b649-1325f3afdfdb",
   "metadata": {},
   "source": [
    "You can also add CSV data as string"
   ]
  },
  {
   "cell_type": "code",
   "execution_count": null,
   "id": "2d08931d-7e7b-4901-bf48-ea55e78bcd2f",
   "metadata": {},
   "outputs": [],
   "source": [
    "with open('data/earthquakes.csv', 'r') as f:\n",
    "    earthquakes = f.read()\n",
    "unfolded_map.add_dataset({'data': earthquakes})"
   ]
  }
 ],
 "metadata": {
  "interpreter": {
   "hash": "39d93d1fa75e121a3dc61814500361af150a3e06daaa74f4a7944f06eae6829c"
  },
  "kernelspec": {
   "display_name": "Python 3.8.8 64-bit ('base': conda)",
   "name": "python3"
  },
  "language_info": {
   "codemirror_mode": {
    "name": "ipython",
    "version": 3
   },
   "file_extension": ".py",
   "mimetype": "text/x-python",
   "name": "python",
   "nbconvert_exporter": "python",
   "pygments_lexer": "ipython3",
   "version": "3.8.8"
  }
 },
 "nbformat": 4,
 "nbformat_minor": 5
}

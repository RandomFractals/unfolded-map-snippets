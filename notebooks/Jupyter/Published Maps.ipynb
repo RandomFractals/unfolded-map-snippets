{
 "cells": [
  {
   "cell_type": "markdown",
   "id": "bb890dbc",
   "metadata": {},
   "source": [
    "# Published Unfolded Maps\n",
    "\n",
    "[Unfolded Studio Cloud](https://studio.unfolded.ai/home) maps are uploaded and [published in Unfolded Cloud](https://docs.unfolded.ai/studio/user-guide/publish).\n",
    "\n",
    "Every map in Unfolded Cloud has a unique identifier `UUID` which you can see in the map URL. For example, the `UUID` of [this published map](http://studio.unfolded.ai/public/ae4f5345-8507-49ec-85f6-a1f8c7bc2219) is `ae4f5345-8507-49ec-85f6-a1f8c7bc2219`."
   ]
  },
  {
   "cell_type": "markdown",
   "id": "2a2037e8",
   "metadata": {
    "tags": []
   },
   "source": [
    "You can create an instance of the Unfolded map with a published map `UUID`:"
   ]
  },
  {
   "cell_type": "code",
   "execution_count": 1,
   "id": "8ef3a29d",
   "metadata": {},
   "outputs": [],
   "source": [
    "from unfolded.map_sdk import UnfoldedMap\n",
    "unfolded_map = UnfoldedMap(\n",
    "    mapUUID = 'ae4f5345-8507-49ec-85f6-a1f8c7bc2219',\n",
    "    height = 640\n",
    ")"
   ]
  }
 ],
 "metadata": {
  "interpreter": {
   "hash": "39d93d1fa75e121a3dc61814500361af150a3e06daaa74f4a7944f06eae6829c"
  },
  "kernelspec": {
   "display_name": "Python 3.8.8 64-bit ('base': conda)",
   "name": "python3"
  },
  "language_info": {
   "codemirror_mode": {
    "name": "ipython",
    "version": 3
   },
   "file_extension": ".py",
   "mimetype": "text/x-python",
   "name": "python",
   "nbconvert_exporter": "python",
   "pygments_lexer": "ipython3",
   "version": "3.8.8"
  }
 },
 "nbformat": 4,
 "nbformat_minor": 5
}
